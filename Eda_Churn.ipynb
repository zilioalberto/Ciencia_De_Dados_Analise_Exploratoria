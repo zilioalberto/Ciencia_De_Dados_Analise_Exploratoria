{
  "nbformat": 4,
  "nbformat_minor": 0,
  "metadata": {
    "colab": {
      "provenance": [],
      "authorship_tag": "ABX9TyPQkFBqFEqcgocVDpcfEAcJ",
      "include_colab_link": true
    },
    "kernelspec": {
      "name": "python3",
      "display_name": "Python 3"
    },
    "language_info": {
      "name": "python"
    }
  },
  "cells": [
    {
      "cell_type": "markdown",
      "metadata": {
        "id": "view-in-github",
        "colab_type": "text"
      },
      "source": [
        "<a href=\"https://colab.research.google.com/github/zilioalberto/Ciencia_De_Dados_Analise_Exploratoria/blob/main/Eda_Churn.ipynb\" target=\"_parent\"><img src=\"https://colab.research.google.com/assets/colab-badge.svg\" alt=\"Open In Colab\"/></a>"
      ]
    },
    {
      "cell_type": "markdown",
      "source": [
        "## Alunos:\n",
        "## Alberto Zilio\n",
        "## Roni Pereira\n",
        "# Disciplina: Ciencia de Dados"
      ],
      "metadata": {
        "id": "IEFOJT7wateJ"
      }
    },
    {
      "cell_type": "code",
      "source": [
        "# Carregamento e Diagnóstic0\n",
        "\n",
        "!pip install -q pandas seaborn matplotlib openpyxl\n",
        "\n",
        "import pandas as pd\n",
        "import seaborn as sns\n",
        "import matplotlib.pyplot as plt\n",
        "import os\n",
        "\n",
        "\n",
        "pd.set_option(\"display.max_columns\", None)\n",
        "pd.set_option(\"display.max_colwidth\", 120)\n",
        "\n",
        "# ================== CARREGAR DATASET ==================\n",
        "\n",
        "CAMINHO_LOCAL = \"/content/Telco-Customer-Churn.csv\"\n",
        "if os.path.exists(CAMINHO_LOCAL):\n",
        "    df_churn = pd.read_csv(CAMINHO_LOCAL, low_memory=False)\n",
        "else:\n",
        "    df_churn = pd.read_csv(to_raw_github(https://github.com/zilioalberto/Ciencia_De_Dados_Analise_Exploratoria/blob/main/WA_Fn-UseC_-Telco-Customer-Churn.csv), low_memory=False)"
      ],
      "metadata": {
        "id": "6Khq1c9yaqvA"
      },
      "execution_count": null,
      "outputs": []
    },
    {
      "cell_type": "markdown",
      "source": [],
      "metadata": {
        "id": "t-nbV-3vacE_"
      }
    }
  ]
}